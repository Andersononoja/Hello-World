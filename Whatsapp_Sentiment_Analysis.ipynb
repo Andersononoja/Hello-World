{
  "nbformat": 4,
  "nbformat_minor": 0,
  "metadata": {
    "colab": {
      "name": "Whatsapp Sentiment Analysis.ipynb",
      "provenance": [],
      "collapsed_sections": [],
      "authorship_tag": "ABX9TyPy+lhT70q7xwAEJougUkli",
      "include_colab_link": true
    },
    "kernelspec": {
      "name": "python3",
      "display_name": "Python 3"
    },
    "language_info": {
      "name": "python"
    }
  },
  "cells": [
    {
      "cell_type": "markdown",
      "metadata": {
        "id": "view-in-github",
        "colab_type": "text"
      },
      "source": [
        "<a href=\"https://colab.research.google.com/github/Andersononoja/Hello-World/blob/master/Whatsapp_Sentiment_Analysis.ipynb\" target=\"_parent\"><img src=\"https://colab.research.google.com/assets/colab-badge.svg\" alt=\"Open In Colab\"/></a>"
      ]
    },
    {
      "cell_type": "code",
      "metadata": {
        "id": "fiDIyCX2JS3e"
      },
      "source": [
        "# Import the libraries\n",
        "import tweepy\n",
        "from textblob import TextBlob\n",
        "import numpy as np\n",
        "import re\n",
        "import matplotlib.pyplot as plt\n",
        "plt.style.use('fivethirtyeight')\n",
        "import pandas as pd"
      ],
      "execution_count": 1,
      "outputs": []
    },
    {
      "cell_type": "code",
      "metadata": {
        "id": "OrueuUUXh4ir"
      },
      "source": [
        "# Storing the twitter credentials\n",
        "consumer_key=\"Your consumer key\"\n",
        "consumer_secret=\"Your consumer secret\"\n",
        "bearer_token=\"Your bearer token\"\n",
        "access_token=\"Your access token\"\n",
        "access_token_secret=\"Your access token secret\""
      ],
      "execution_count": 2,
      "outputs": []
    },
    {
      "cell_type": "code",
      "metadata": {
        "id": "5k5jeeoXjMeA"
      },
      "source": [
        "#create the authentication object\n",
        "auth = tweepy.OAuthHandler(consumer_key, consumer_secret)\n",
        "auth.set_access_token(access_token,access_token_secret)\n",
        "# create the API object\n",
        "api = tweepy.API(auth)"
      ],
      "execution_count": 3,
      "outputs": []
    },
    {
      "cell_type": "code",
      "metadata": {
        "id": "zVVWUnUsmIe7"
      },
      "source": [
        "# Get 2000 tweets about Whatsapp and filter out any retweets 'RT'\n",
        "search_term = '#whatsapp -filter:retweets'\n",
        "# Create a cursor object\n",
        "tweets = tweepy.Cursor(api.search, q=search_term, lang='en', since= '2021-09-01', tweet_mode= 'extended').items(2000)\n",
        "# Store the tweets in a variable and get the full text\n",
        "all_tweets = [tweet.full_text for tweet in tweets]"
      ],
      "execution_count": 4,
      "outputs": []
    },
    {
      "cell_type": "code",
      "metadata": {
        "colab": {
          "base_uri": "https://localhost:8080/",
          "height": 206
        },
        "id": "rHxn_9sTpR1E",
        "outputId": "5f465370-e914-42c8-fcb4-57821a19537d"
      },
      "source": [
        "#create a dataframe to store the dataframe \n",
        "df = pd.DataFrame(all_tweets, columns=['Tweets'])\n",
        "# show the first five row of the data\n",
        "df.head(5)"
      ],
      "execution_count": 5,
      "outputs": [
        {
          "output_type": "execute_result",
          "data": {
            "text/html": [
              "<div>\n",
              "<style scoped>\n",
              "    .dataframe tbody tr th:only-of-type {\n",
              "        vertical-align: middle;\n",
              "    }\n",
              "\n",
              "    .dataframe tbody tr th {\n",
              "        vertical-align: top;\n",
              "    }\n",
              "\n",
              "    .dataframe thead th {\n",
              "        text-align: right;\n",
              "    }\n",
              "</style>\n",
              "<table border=\"1\" class=\"dataframe\">\n",
              "  <thead>\n",
              "    <tr style=\"text-align: right;\">\n",
              "      <th></th>\n",
              "      <th>Tweets</th>\n",
              "    </tr>\n",
              "  </thead>\n",
              "  <tbody>\n",
              "    <tr>\n",
              "      <th>0</th>\n",
              "      <td>I'm using #Watusi for iOS by @FouadRaheb to ad...</td>\n",
              "    </tr>\n",
              "    <tr>\n",
              "      <th>1</th>\n",
              "      <td>hi friends☺ have you try this?😋 message me wha...</td>\n",
              "    </tr>\n",
              "    <tr>\n",
              "      <th>2</th>\n",
              "      <td>WhatsApp has just submitted a new update throu...</td>\n",
              "    </tr>\n",
              "    <tr>\n",
              "      <th>3</th>\n",
              "      <td>WhatsApp can Now be used on a couple of device...</td>\n",
              "    </tr>\n",
              "    <tr>\n",
              "      <th>4</th>\n",
              "      <td>Whatsapp transfer |how to transfer whatsapp fr...</td>\n",
              "    </tr>\n",
              "  </tbody>\n",
              "</table>\n",
              "</div>"
            ],
            "text/plain": [
              "                                              Tweets\n",
              "0  I'm using #Watusi for iOS by @FouadRaheb to ad...\n",
              "1  hi friends☺ have you try this?😋 message me wha...\n",
              "2  WhatsApp has just submitted a new update throu...\n",
              "3  WhatsApp can Now be used on a couple of device...\n",
              "4  Whatsapp transfer |how to transfer whatsapp fr..."
            ]
          },
          "metadata": {},
          "execution_count": 5
        }
      ]
    },
    {
      "cell_type": "code",
      "metadata": {
        "id": "oT3LAut4qCCz"
      },
      "source": [
        "# Create a function to clean the tweets\n",
        "def cleanTwt(twt):\n",
        "  twt = re.sub('#whatsapp', 'whatsapp', twt)   # removes the '#' from whatsapp\n",
        "  twt = re.sub('#Whatsapp', 'Whatsapp', twt)   # removes the '#' from Whatsapp\n",
        "  twt = re.sub('#[A-Za-z0-9]+', '', twt)       # removes any string with a  '#'\n",
        "  twt = re.sub('\\\\n', '', twt)                 # removes anu '\\n'string\n",
        "  twt = re.sub('https?:\\/\\/\\S+', '', twt)      # removes any hyperlink\n",
        "  return twt"
      ],
      "execution_count": 7,
      "outputs": []
    },
    {
      "cell_type": "code",
      "metadata": {
        "colab": {
          "base_uri": "https://localhost:8080/",
          "height": 206
        },
        "id": "x5DXBStArxrY",
        "outputId": "b79755b6-39f7-4807-d660-8f04ecf4e8f6"
      },
      "source": [
        "# Clean the tweets and show the first five rows\n",
        "df['Cleaned_Tweets'] = df['Tweets'].apply(cleanTwt)\n",
        "df.head()"
      ],
      "execution_count": 8,
      "outputs": [
        {
          "output_type": "execute_result",
          "data": {
            "text/html": [
              "<div>\n",
              "<style scoped>\n",
              "    .dataframe tbody tr th:only-of-type {\n",
              "        vertical-align: middle;\n",
              "    }\n",
              "\n",
              "    .dataframe tbody tr th {\n",
              "        vertical-align: top;\n",
              "    }\n",
              "\n",
              "    .dataframe thead th {\n",
              "        text-align: right;\n",
              "    }\n",
              "</style>\n",
              "<table border=\"1\" class=\"dataframe\">\n",
              "  <thead>\n",
              "    <tr style=\"text-align: right;\">\n",
              "      <th></th>\n",
              "      <th>Tweets</th>\n",
              "      <th>Cleaned_Tweets</th>\n",
              "    </tr>\n",
              "  </thead>\n",
              "  <tbody>\n",
              "    <tr>\n",
              "      <th>0</th>\n",
              "      <td>I'm using #Watusi for iOS by @FouadRaheb to ad...</td>\n",
              "      <td>I'm using  for iOS by @FouadRaheb to add new f...</td>\n",
              "    </tr>\n",
              "    <tr>\n",
              "      <th>1</th>\n",
              "      <td>hi friends☺ have you try this?😋 message me wha...</td>\n",
              "      <td>hi friends☺ have you try this?😋 message me wha...</td>\n",
              "    </tr>\n",
              "    <tr>\n",
              "      <th>2</th>\n",
              "      <td>WhatsApp has just submitted a new update throu...</td>\n",
              "      <td>WhatsApp has just submitted a new update throu...</td>\n",
              "    </tr>\n",
              "    <tr>\n",
              "      <th>3</th>\n",
              "      <td>WhatsApp can Now be used on a couple of device...</td>\n",
              "      <td>WhatsApp can Now be used on a couple of device...</td>\n",
              "    </tr>\n",
              "    <tr>\n",
              "      <th>4</th>\n",
              "      <td>Whatsapp transfer |how to transfer whatsapp fr...</td>\n",
              "      <td>Whatsapp transfer |how to transfer whatsapp fr...</td>\n",
              "    </tr>\n",
              "  </tbody>\n",
              "</table>\n",
              "</div>"
            ],
            "text/plain": [
              "                                              Tweets                                     Cleaned_Tweets\n",
              "0  I'm using #Watusi for iOS by @FouadRaheb to ad...  I'm using  for iOS by @FouadRaheb to add new f...\n",
              "1  hi friends☺ have you try this?😋 message me wha...  hi friends☺ have you try this?😋 message me wha...\n",
              "2  WhatsApp has just submitted a new update throu...  WhatsApp has just submitted a new update throu...\n",
              "3  WhatsApp can Now be used on a couple of device...  WhatsApp can Now be used on a couple of device...\n",
              "4  Whatsapp transfer |how to transfer whatsapp fr...  Whatsapp transfer |how to transfer whatsapp fr..."
            ]
          },
          "metadata": {},
          "execution_count": 8
        }
      ]
    },
    {
      "cell_type": "code",
      "metadata": {
        "id": "JMUJf0cYJX4t",
        "colab": {
          "base_uri": "https://localhost:8080/",
          "height": 206
        },
        "outputId": "70e3d22f-a84a-4f2d-8e2d-f7b8cb5de032"
      },
      "source": [
        "#Create a ffunction to get the subjectivity\n",
        "def getSubjectivity(twt):\n",
        "  return TextBlob(twt).sentiment.subjectivity\n",
        "# Create a fucntion to get the Polarity\n",
        "def getPolarity(twt):\n",
        "  return TextBlob(twt).sentiment.polarity\n",
        "\n",
        "#Create two columns called 'Subjectivity' and 'Polarity'\n",
        "df['Subjectivity'] = df['Cleaned_Tweets'].apply(getSubjectivity)\n",
        "df['Polarity'] = df['Cleaned_Tweets'].apply(getPolarity)\n",
        "\n",
        "# Show the data preview\n",
        "df.head()"
      ],
      "execution_count": 9,
      "outputs": [
        {
          "output_type": "execute_result",
          "data": {
            "text/html": [
              "<div>\n",
              "<style scoped>\n",
              "    .dataframe tbody tr th:only-of-type {\n",
              "        vertical-align: middle;\n",
              "    }\n",
              "\n",
              "    .dataframe tbody tr th {\n",
              "        vertical-align: top;\n",
              "    }\n",
              "\n",
              "    .dataframe thead th {\n",
              "        text-align: right;\n",
              "    }\n",
              "</style>\n",
              "<table border=\"1\" class=\"dataframe\">\n",
              "  <thead>\n",
              "    <tr style=\"text-align: right;\">\n",
              "      <th></th>\n",
              "      <th>Tweets</th>\n",
              "      <th>Cleaned_Tweets</th>\n",
              "      <th>Subjectivity</th>\n",
              "      <th>Polarity</th>\n",
              "    </tr>\n",
              "  </thead>\n",
              "  <tbody>\n",
              "    <tr>\n",
              "      <th>0</th>\n",
              "      <td>I'm using #Watusi for iOS by @FouadRaheb to ad...</td>\n",
              "      <td>I'm using  for iOS by @FouadRaheb to add new f...</td>\n",
              "      <td>0.454545</td>\n",
              "      <td>0.170455</td>\n",
              "    </tr>\n",
              "    <tr>\n",
              "      <th>1</th>\n",
              "      <td>hi friends☺ have you try this?😋 message me wha...</td>\n",
              "      <td>hi friends☺ have you try this?😋 message me wha...</td>\n",
              "      <td>0.400000</td>\n",
              "      <td>0.400000</td>\n",
              "    </tr>\n",
              "    <tr>\n",
              "      <th>2</th>\n",
              "      <td>WhatsApp has just submitted a new update throu...</td>\n",
              "      <td>WhatsApp has just submitted a new update throu...</td>\n",
              "      <td>0.454545</td>\n",
              "      <td>0.136364</td>\n",
              "    </tr>\n",
              "    <tr>\n",
              "      <th>3</th>\n",
              "      <td>WhatsApp can Now be used on a couple of device...</td>\n",
              "      <td>WhatsApp can Now be used on a couple of device...</td>\n",
              "      <td>0.000000</td>\n",
              "      <td>0.000000</td>\n",
              "    </tr>\n",
              "    <tr>\n",
              "      <th>4</th>\n",
              "      <td>Whatsapp transfer |how to transfer whatsapp fr...</td>\n",
              "      <td>Whatsapp transfer |how to transfer whatsapp fr...</td>\n",
              "      <td>0.000000</td>\n",
              "      <td>0.000000</td>\n",
              "    </tr>\n",
              "  </tbody>\n",
              "</table>\n",
              "</div>"
            ],
            "text/plain": [
              "                                              Tweets  ...  Polarity\n",
              "0  I'm using #Watusi for iOS by @FouadRaheb to ad...  ...  0.170455\n",
              "1  hi friends☺ have you try this?😋 message me wha...  ...  0.400000\n",
              "2  WhatsApp has just submitted a new update throu...  ...  0.136364\n",
              "3  WhatsApp can Now be used on a couple of device...  ...  0.000000\n",
              "4  Whatsapp transfer |how to transfer whatsapp fr...  ...  0.000000\n",
              "\n",
              "[5 rows x 4 columns]"
            ]
          },
          "metadata": {},
          "execution_count": 9
        }
      ]
    },
    {
      "cell_type": "code",
      "metadata": {
        "id": "uaRrqMeGuNPz"
      },
      "source": [
        "# Create a function to the get the Sentiment of the users as (Positive, Neutral or Negative)\n",
        "def getSentiment(score):\n",
        "  if score < 0:\n",
        "    return 'Negative'\n",
        "  elif score == 0:\n",
        "    return 'Neutral'\n",
        "  else:\n",
        "    return 'Positive'"
      ],
      "execution_count": 10,
      "outputs": []
    },
    {
      "cell_type": "code",
      "metadata": {
        "id": "ST1_kc1nKXZf",
        "colab": {
          "base_uri": "https://localhost:8080/",
          "height": 206
        },
        "outputId": "14d9a48d-bc90-4a0b-9dfe-7f1d748450d1"
      },
      "source": [
        "# Create a column to store the user's sentiment\n",
        "df['Sentiment'] = df['Polarity'].apply(getSentiment)\n",
        "# Preview the data\n",
        "df.head()"
      ],
      "execution_count": 11,
      "outputs": [
        {
          "output_type": "execute_result",
          "data": {
            "text/html": [
              "<div>\n",
              "<style scoped>\n",
              "    .dataframe tbody tr th:only-of-type {\n",
              "        vertical-align: middle;\n",
              "    }\n",
              "\n",
              "    .dataframe tbody tr th {\n",
              "        vertical-align: top;\n",
              "    }\n",
              "\n",
              "    .dataframe thead th {\n",
              "        text-align: right;\n",
              "    }\n",
              "</style>\n",
              "<table border=\"1\" class=\"dataframe\">\n",
              "  <thead>\n",
              "    <tr style=\"text-align: right;\">\n",
              "      <th></th>\n",
              "      <th>Tweets</th>\n",
              "      <th>Cleaned_Tweets</th>\n",
              "      <th>Subjectivity</th>\n",
              "      <th>Polarity</th>\n",
              "      <th>Sentiment</th>\n",
              "    </tr>\n",
              "  </thead>\n",
              "  <tbody>\n",
              "    <tr>\n",
              "      <th>0</th>\n",
              "      <td>I'm using #Watusi for iOS by @FouadRaheb to ad...</td>\n",
              "      <td>I'm using  for iOS by @FouadRaheb to add new f...</td>\n",
              "      <td>0.454545</td>\n",
              "      <td>0.170455</td>\n",
              "      <td>Positive</td>\n",
              "    </tr>\n",
              "    <tr>\n",
              "      <th>1</th>\n",
              "      <td>hi friends☺ have you try this?😋 message me wha...</td>\n",
              "      <td>hi friends☺ have you try this?😋 message me wha...</td>\n",
              "      <td>0.400000</td>\n",
              "      <td>0.400000</td>\n",
              "      <td>Positive</td>\n",
              "    </tr>\n",
              "    <tr>\n",
              "      <th>2</th>\n",
              "      <td>WhatsApp has just submitted a new update throu...</td>\n",
              "      <td>WhatsApp has just submitted a new update throu...</td>\n",
              "      <td>0.454545</td>\n",
              "      <td>0.136364</td>\n",
              "      <td>Positive</td>\n",
              "    </tr>\n",
              "    <tr>\n",
              "      <th>3</th>\n",
              "      <td>WhatsApp can Now be used on a couple of device...</td>\n",
              "      <td>WhatsApp can Now be used on a couple of device...</td>\n",
              "      <td>0.000000</td>\n",
              "      <td>0.000000</td>\n",
              "      <td>Neutral</td>\n",
              "    </tr>\n",
              "    <tr>\n",
              "      <th>4</th>\n",
              "      <td>Whatsapp transfer |how to transfer whatsapp fr...</td>\n",
              "      <td>Whatsapp transfer |how to transfer whatsapp fr...</td>\n",
              "      <td>0.000000</td>\n",
              "      <td>0.000000</td>\n",
              "      <td>Neutral</td>\n",
              "    </tr>\n",
              "  </tbody>\n",
              "</table>\n",
              "</div>"
            ],
            "text/plain": [
              "                                              Tweets  ... Sentiment\n",
              "0  I'm using #Watusi for iOS by @FouadRaheb to ad...  ...  Positive\n",
              "1  hi friends☺ have you try this?😋 message me wha...  ...  Positive\n",
              "2  WhatsApp has just submitted a new update throu...  ...  Positive\n",
              "3  WhatsApp can Now be used on a couple of device...  ...   Neutral\n",
              "4  Whatsapp transfer |how to transfer whatsapp fr...  ...   Neutral\n",
              "\n",
              "[5 rows x 5 columns]"
            ]
          },
          "metadata": {},
          "execution_count": 11
        }
      ]
    },
    {
      "cell_type": "code",
      "metadata": {
        "colab": {
          "base_uri": "https://localhost:8080/",
          "height": 405
        },
        "id": "ciIWuqrRv-gY",
        "outputId": "89a62585-0f18-4247-cb7c-4b4c312bfc6b"
      },
      "source": [
        "# Create a scatter plot of the Subjectivity and Polarity\n",
        "plt.figure(figsize=(8,6))\n",
        "for i in range(0, df.shape[0]):\n",
        "  plt.scatter(df['Polarity'][i], df['Subjectivity'][i], color='Blue')\n",
        "plt.title('Whatsapp Sentiment Analysis Scatter Plot')\n",
        "plt.xlabel('Polarity')\n",
        "plt.ylabel('Subjectivity (Objective -> Subjective)')\n",
        "plt.show()"
      ],
      "execution_count": 12,
      "outputs": [
        {
          "output_type": "display_data",
          "data": {
            "image/png": "[encoded data removed]",
            "text/plain": [
              "<Figure size 576x432 with 1 Axes>"
            ]
          },
          "metadata": {
            "needs_background": "light"
          }
        }
      ]
    },
    {
      "cell_type": "markdown",
      "metadata": {
        "id": "QynvHKcwxqAg"
      },
      "source": [
        "The Scatter plot indicates that the sentiment from twitter users about Whatsapp are mostly positive and subjective. The plot also indicates some neutral sentiments.\n",
        "The Scatter Plot also indicated that few of the sentiment from twitter users are negatively subjective."
      ]
    },
    {
      "cell_type": "code",
      "metadata": {
        "colab": {
          "base_uri": "https://localhost:8080/",
          "height": 331
        },
        "id": "MhLayg39zFTe",
        "outputId": "f461943a-bf16-4b2e-b0ee-29a701e2e96a"
      },
      "source": [
        "# Create a Bar Chart to show the count of Positive, Neutral, and Negative Sentiments\n",
        "df['Sentiment'].value_counts().plot(kind='bar')\n",
        "plt.title('A Bar Plot of the Sentiment Analysis of Whatsapp')\n",
        "plt.xlabel('Sentiment')\n",
        "plt.ylabel('Frequency of Tweets')\n",
        "plt.show()"
      ],
      "execution_count": 14,
      "outputs": [
        {
          "output_type": "display_data",
          "data": {
            "image/png": "[encoded data removed]",
            "text/plain": [
              "<Figure size 432x288 with 1 Axes>"
            ]
          },
          "metadata": {
            "needs_background": "light"
          }
        }
      ]
    },
    {
      "cell_type": "markdown",
      "metadata": {
        "id": "xi88E2590Jwr"
      },
      "source": [
        "The bar plot indicates that a large number of the tweets as regards Whatsapp are positive. This suggests that users of this social media platform in recent times are very comfortable with Whatsapp's services.\n",
        "The plot further indicates that a good percentage of the tweets as regards Whatsapp are neutral and about 10% (200 tweets) of the tweets indicated some negative sentiment about Whatsapp which does not seem significant enough to affect the growth of the social media platform."
      ]
    }
  ]
}