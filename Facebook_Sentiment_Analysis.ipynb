{
  "nbformat": 4,
  "nbformat_minor": 0,
  "metadata": {
    "colab": {
      "name": "Facebook Sentiment Analysis.ipynb",
      "provenance": [],
      "collapsed_sections": [],
      "authorship_tag": "ABX9TyN8KXwxlYzT9Ax+50V+zRzg",
      "include_colab_link": true
    },
    "kernelspec": {
      "name": "python3",
      "display_name": "Python 3"
    },
    "language_info": {
      "name": "python"
    }
  },
  "cells": [
    {
      "cell_type": "markdown",
      "metadata": {
        "id": "view-in-github",
        "colab_type": "text"
      },
      "source": [
        "<a href=\"https://colab.research.google.com/github/Andersononoja/Hello-World/blob/master/Facebook_Sentiment_Analysis.ipynb\" target=\"_parent\"><img src=\"https://colab.research.google.com/assets/colab-badge.svg\" alt=\"Open In Colab\"/></a>"
      ]
    },
    {
      "cell_type": "code",
      "metadata": {
        "id": "fiDIyCX2JS3e"
      },
      "source": [
        "import tweepy\n",
        "from textblob import TextBlob\n",
        "import numpy as np\n",
        "import re\n",
        "import matplotlib.pyplot as plt\n",
        "plt.style.use('fivethirtyeight')\n",
        "import pandas as pd"
      ],
      "execution_count": null,
      "outputs": []
    },
    {
      "cell_type": "code",
      "metadata": {
        "id": "OrueuUUXh4ir"
      },
      "source": [
        "consumer_key=\"Your consumer keys\"\n",
        "consumer_secret=\"Your consumer secret\"\n",
        "bearer_token=\"Your bearer token\"\n",
        "access_token=\"You acces token\"\n",
        "access_token_secret=\"Your access token secret\""
      ],
      "execution_count": null,
      "outputs": []
    },
    {
      "cell_type": "code",
      "metadata": {
        "id": "5k5jeeoXjMeA"
      },
      "source": [
        "auth = tweepy.OAuthHandler(consumer_key, consumer_secret)\n",
        "auth.set_access_token(access_token,access_token_secret)\n",
        "api = tweepy.API(auth)"
      ],
      "execution_count": null,
      "outputs": []
    },
    {
      "cell_type": "code",
      "metadata": {
        "id": "zVVWUnUsmIe7"
      },
      "source": [
        "search_term = '#facebook -filter:retweets'\n",
        "tweets = tweepy.Cursor(api.search, q=search_term, lang='en', since= '2021-10-01', tweet_mode= 'extended').items(2000)\n",
        "all_tweets = [tweet.full_text for tweet in tweets]"
      ],
      "execution_count": null,
      "outputs": []
    },
    {
      "cell_type": "code",
      "metadata": {
        "colab": {
          "base_uri": "https://localhost:8080/",
          "height": 204
        },
        "id": "rHxn_9sTpR1E",
        "outputId": "dc0fe631-f902-4740-b641-286d89835d03"
      },
      "source": [
        "#create a dataframe to store the dataframe \n",
        "df = pd.DataFrame(all_tweets, columns=['Tweets'])\n",
        "# show the first five row of the data\n",
        "df.head(5)"
      ],
      "execution_count": null,
      "outputs": [
        {
          "output_type": "execute_result",
          "data": {
            "text/html": [
              "<div>\n",
              "<style scoped>\n",
              "    .dataframe tbody tr th:only-of-type {\n",
              "        vertical-align: middle;\n",
              "    }\n",
              "\n",
              "    .dataframe tbody tr th {\n",
              "        vertical-align: top;\n",
              "    }\n",
              "\n",
              "    .dataframe thead th {\n",
              "        text-align: right;\n",
              "    }\n",
              "</style>\n",
              "<table border=\"1\" class=\"dataframe\">\n",
              "  <thead>\n",
              "    <tr style=\"text-align: right;\">\n",
              "      <th></th>\n",
              "      <th>Tweets</th>\n",
              "    </tr>\n",
              "  </thead>\n",
              "  <tbody>\n",
              "    <tr>\n",
              "      <th>0</th>\n",
              "      <td>#linkedin #twitter #facebook #instagram #bitco...</td>\n",
              "    </tr>\n",
              "    <tr>\n",
              "      <th>1</th>\n",
              "      <td>#linkedin #twitter #facebook #instagram #tikto...</td>\n",
              "    </tr>\n",
              "    <tr>\n",
              "      <th>2</th>\n",
              "      <td>#linkedin #twitter #facebook #instagram #tikto...</td>\n",
              "    </tr>\n",
              "    <tr>\n",
              "      <th>3</th>\n",
              "      <td>#linkedin #twitter #facebook #instagram #doge ...</td>\n",
              "    </tr>\n",
              "    <tr>\n",
              "      <th>4</th>\n",
              "      <td>#affiliates #tumblr #twitter #facebook #instag...</td>\n",
              "    </tr>\n",
              "  </tbody>\n",
              "</table>\n",
              "</div>"
            ],
            "text/plain": [
              "                                              Tweets\n",
              "0  #linkedin #twitter #facebook #instagram #bitco...\n",
              "1  #linkedin #twitter #facebook #instagram #tikto...\n",
              "2  #linkedin #twitter #facebook #instagram #tikto...\n",
              "3  #linkedin #twitter #facebook #instagram #doge ...\n",
              "4  #affiliates #tumblr #twitter #facebook #instag..."
            ]
          },
          "metadata": {},
          "execution_count": 12
        }
      ]
    },
    {
      "cell_type": "code",
      "metadata": {
        "id": "oT3LAut4qCCz"
      },
      "source": [
        "def cleanTwt(twt):\n",
        "  twt = re.sub('#facebook', 'facebook', twt)\n",
        "  twt = re.sub('#Facebook', 'Facebook', twt)\n",
        "  twt = re.sub('#[A-Za-z0-9]+', '', twt)\n",
        "  twt = re.sub('\\\\n', '', twt)\n",
        "  twt = re.sub('https?:\\/\\/\\S+', '', twt)\n",
        "  return twt"
      ],
      "execution_count": null,
      "outputs": []
    },
    {
      "cell_type": "code",
      "metadata": {
        "colab": {
          "base_uri": "https://localhost:8080/",
          "height": 204
        },
        "id": "x5DXBStArxrY",
        "outputId": "6e1f7137-56d1-420b-e6e0-16a184ca863c"
      },
      "source": [
        "df['Cleaned_Tweets'] = df['Tweets'].apply(cleanTwt)\n",
        "df.head()"
      ],
      "execution_count": null,
      "outputs": [
        {
          "output_type": "execute_result",
          "data": {
            "text/html": [
              "<div>\n",
              "<style scoped>\n",
              "    .dataframe tbody tr th:only-of-type {\n",
              "        vertical-align: middle;\n",
              "    }\n",
              "\n",
              "    .dataframe tbody tr th {\n",
              "        vertical-align: top;\n",
              "    }\n",
              "\n",
              "    .dataframe thead th {\n",
              "        text-align: right;\n",
              "    }\n",
              "</style>\n",
              "<table border=\"1\" class=\"dataframe\">\n",
              "  <thead>\n",
              "    <tr style=\"text-align: right;\">\n",
              "      <th></th>\n",
              "      <th>Tweets</th>\n",
              "      <th>Cleaned_Tweets</th>\n",
              "    </tr>\n",
              "  </thead>\n",
              "  <tbody>\n",
              "    <tr>\n",
              "      <th>0</th>\n",
              "      <td>#linkedin #twitter #facebook #instagram #bitco...</td>\n",
              "      <td>facebook                SAVE BIG ON AIRPORT ...</td>\n",
              "    </tr>\n",
              "    <tr>\n",
              "      <th>1</th>\n",
              "      <td>#linkedin #twitter #facebook #instagram #tikto...</td>\n",
              "      <td>facebook                Enjoy $10 off Orders...</td>\n",
              "    </tr>\n",
              "    <tr>\n",
              "      <th>2</th>\n",
              "      <td>#linkedin #twitter #facebook #instagram #tikto...</td>\n",
              "      <td>facebook                Up to 15% off New Pr...</td>\n",
              "    </tr>\n",
              "    <tr>\n",
              "      <th>3</th>\n",
              "      <td>#linkedin #twitter #facebook #instagram #doge ...</td>\n",
              "      <td>facebook                on purchases over $2...</td>\n",
              "    </tr>\n",
              "    <tr>\n",
              "      <th>4</th>\n",
              "      <td>#affiliates #tumblr #twitter #facebook #instag...</td>\n",
              "      <td>facebook               with $25 Purchase</td>\n",
              "    </tr>\n",
              "  </tbody>\n",
              "</table>\n",
              "</div>"
            ],
            "text/plain": [
              "                                              Tweets                                     Cleaned_Tweets\n",
              "0  #linkedin #twitter #facebook #instagram #bitco...    facebook                SAVE BIG ON AIRPORT ...\n",
              "1  #linkedin #twitter #facebook #instagram #tikto...    facebook                Enjoy $10 off Orders...\n",
              "2  #linkedin #twitter #facebook #instagram #tikto...    facebook                Up to 15% off New Pr...\n",
              "3  #linkedin #twitter #facebook #instagram #doge ...    facebook                on purchases over $2...\n",
              "4  #affiliates #tumblr #twitter #facebook #instag...          facebook               with $25 Purchase "
            ]
          },
          "metadata": {},
          "execution_count": 18
        }
      ]
    },
    {
      "cell_type": "code",
      "metadata": {
        "id": "JMUJf0cYJX4t",
        "colab": {
          "base_uri": "https://localhost:8080/",
          "height": 204
        },
        "outputId": "c346baa5-7f50-4fd5-966d-9f3515ca298f"
      },
      "source": [
        "#Create a ffunction to get the subjectivity\n",
        "def getSubjectivity(twt):\n",
        "  return TextBlob(twt).sentiment.subjectivity\n",
        "# Create a fucntion to get the Polarity\n",
        "def getPolarity(twt):\n",
        "  return TextBlob(twt).sentiment.polarity\n",
        "\n",
        "#Create two columns called 'Subjectivity' and 'Polarity'\n",
        "df['Subjectivity'] = df['Cleaned_Tweets'].apply(getSubjectivity)\n",
        "df['Polarity'] = df['Cleaned_Tweets'].apply(getPolarity)\n",
        "\n",
        "# Show the data preview\n",
        "df.head()"
      ],
      "execution_count": null,
      "outputs": [
        {
          "output_type": "execute_result",
          "data": {
            "text/html": [
              "<div>\n",
              "<style scoped>\n",
              "    .dataframe tbody tr th:only-of-type {\n",
              "        vertical-align: middle;\n",
              "    }\n",
              "\n",
              "    .dataframe tbody tr th {\n",
              "        vertical-align: top;\n",
              "    }\n",
              "\n",
              "    .dataframe thead th {\n",
              "        text-align: right;\n",
              "    }\n",
              "</style>\n",
              "<table border=\"1\" class=\"dataframe\">\n",
              "  <thead>\n",
              "    <tr style=\"text-align: right;\">\n",
              "      <th></th>\n",
              "      <th>Tweets</th>\n",
              "      <th>Cleaned_Tweets</th>\n",
              "      <th>Subjectivity</th>\n",
              "      <th>Polarity</th>\n",
              "    </tr>\n",
              "  </thead>\n",
              "  <tbody>\n",
              "    <tr>\n",
              "      <th>0</th>\n",
              "      <td>#linkedin #twitter #facebook #instagram #bitco...</td>\n",
              "      <td>facebook                SAVE BIG ON AIRPORT ...</td>\n",
              "      <td>0.100000</td>\n",
              "      <td>0.000000</td>\n",
              "    </tr>\n",
              "    <tr>\n",
              "      <th>1</th>\n",
              "      <td>#linkedin #twitter #facebook #instagram #tikto...</td>\n",
              "      <td>facebook                Enjoy $10 off Orders...</td>\n",
              "      <td>0.500000</td>\n",
              "      <td>0.400000</td>\n",
              "    </tr>\n",
              "    <tr>\n",
              "      <th>2</th>\n",
              "      <td>#linkedin #twitter #facebook #instagram #tikto...</td>\n",
              "      <td>facebook                Up to 15% off New Pr...</td>\n",
              "      <td>0.454545</td>\n",
              "      <td>0.136364</td>\n",
              "    </tr>\n",
              "    <tr>\n",
              "      <th>3</th>\n",
              "      <td>#linkedin #twitter #facebook #instagram #doge ...</td>\n",
              "      <td>facebook                on purchases over $2...</td>\n",
              "      <td>0.000000</td>\n",
              "      <td>0.000000</td>\n",
              "    </tr>\n",
              "    <tr>\n",
              "      <th>4</th>\n",
              "      <td>#affiliates #tumblr #twitter #facebook #instag...</td>\n",
              "      <td>facebook               with $25 Purchase</td>\n",
              "      <td>0.000000</td>\n",
              "      <td>0.000000</td>\n",
              "    </tr>\n",
              "  </tbody>\n",
              "</table>\n",
              "</div>"
            ],
            "text/plain": [
              "                                              Tweets  ...  Polarity\n",
              "0  #linkedin #twitter #facebook #instagram #bitco...  ...  0.000000\n",
              "1  #linkedin #twitter #facebook #instagram #tikto...  ...  0.400000\n",
              "2  #linkedin #twitter #facebook #instagram #tikto...  ...  0.136364\n",
              "3  #linkedin #twitter #facebook #instagram #doge ...  ...  0.000000\n",
              "4  #affiliates #tumblr #twitter #facebook #instag...  ...  0.000000\n",
              "\n",
              "[5 rows x 4 columns]"
            ]
          },
          "metadata": {},
          "execution_count": 20
        }
      ]
    },
    {
      "cell_type": "code",
      "metadata": {
        "id": "uaRrqMeGuNPz"
      },
      "source": [
        "# Create a function to the get the Sentiment of the users as (Positive, Neutral or Negative)\n",
        "def getSentiment(score):\n",
        "  if score < 0:\n",
        "    return 'Negative'\n",
        "  elif score == 0:\n",
        "    return 'Neutral'\n",
        "  else:\n",
        "    return 'Positive'"
      ],
      "execution_count": null,
      "outputs": []
    },
    {
      "cell_type": "code",
      "metadata": {
        "id": "ST1_kc1nKXZf",
        "colab": {
          "base_uri": "https://localhost:8080/",
          "height": 204
        },
        "outputId": "9915c1c9-29e2-4d76-ed86-651f882c1ff1"
      },
      "source": [
        "# Create a column to store the user's sentiment\n",
        "df['Sentiment'] = df['Polarity'].apply(getSentiment)\n",
        "# Preview the data\n",
        "df.head()"
      ],
      "execution_count": null,
      "outputs": [
        {
          "output_type": "execute_result",
          "data": {
            "text/html": [
              "<div>\n",
              "<style scoped>\n",
              "    .dataframe tbody tr th:only-of-type {\n",
              "        vertical-align: middle;\n",
              "    }\n",
              "\n",
              "    .dataframe tbody tr th {\n",
              "        vertical-align: top;\n",
              "    }\n",
              "\n",
              "    .dataframe thead th {\n",
              "        text-align: right;\n",
              "    }\n",
              "</style>\n",
              "<table border=\"1\" class=\"dataframe\">\n",
              "  <thead>\n",
              "    <tr style=\"text-align: right;\">\n",
              "      <th></th>\n",
              "      <th>Tweets</th>\n",
              "      <th>Cleaned_Tweets</th>\n",
              "      <th>Subjectivity</th>\n",
              "      <th>Polarity</th>\n",
              "      <th>Sentiment</th>\n",
              "    </tr>\n",
              "  </thead>\n",
              "  <tbody>\n",
              "    <tr>\n",
              "      <th>0</th>\n",
              "      <td>#linkedin #twitter #facebook #instagram #bitco...</td>\n",
              "      <td>facebook                SAVE BIG ON AIRPORT ...</td>\n",
              "      <td>0.100000</td>\n",
              "      <td>0.000000</td>\n",
              "      <td>Neutral</td>\n",
              "    </tr>\n",
              "    <tr>\n",
              "      <th>1</th>\n",
              "      <td>#linkedin #twitter #facebook #instagram #tikto...</td>\n",
              "      <td>facebook                Enjoy $10 off Orders...</td>\n",
              "      <td>0.500000</td>\n",
              "      <td>0.400000</td>\n",
              "      <td>Positive</td>\n",
              "    </tr>\n",
              "    <tr>\n",
              "      <th>2</th>\n",
              "      <td>#linkedin #twitter #facebook #instagram #tikto...</td>\n",
              "      <td>facebook                Up to 15% off New Pr...</td>\n",
              "      <td>0.454545</td>\n",
              "      <td>0.136364</td>\n",
              "      <td>Positive</td>\n",
              "    </tr>\n",
              "    <tr>\n",
              "      <th>3</th>\n",
              "      <td>#linkedin #twitter #facebook #instagram #doge ...</td>\n",
              "      <td>facebook                on purchases over $2...</td>\n",
              "      <td>0.000000</td>\n",
              "      <td>0.000000</td>\n",
              "      <td>Neutral</td>\n",
              "    </tr>\n",
              "    <tr>\n",
              "      <th>4</th>\n",
              "      <td>#affiliates #tumblr #twitter #facebook #instag...</td>\n",
              "      <td>facebook               with $25 Purchase</td>\n",
              "      <td>0.000000</td>\n",
              "      <td>0.000000</td>\n",
              "      <td>Neutral</td>\n",
              "    </tr>\n",
              "  </tbody>\n",
              "</table>\n",
              "</div>"
            ],
            "text/plain": [
              "                                              Tweets  ... Sentiment\n",
              "0  #linkedin #twitter #facebook #instagram #bitco...  ...   Neutral\n",
              "1  #linkedin #twitter #facebook #instagram #tikto...  ...  Positive\n",
              "2  #linkedin #twitter #facebook #instagram #tikto...  ...  Positive\n",
              "3  #linkedin #twitter #facebook #instagram #doge ...  ...   Neutral\n",
              "4  #affiliates #tumblr #twitter #facebook #instag...  ...   Neutral\n",
              "\n",
              "[5 rows x 5 columns]"
            ]
          },
          "metadata": {},
          "execution_count": 23
        }
      ]
    },
    {
      "cell_type": "code",
      "metadata": {
        "colab": {
          "base_uri": "https://localhost:8080/",
          "height": 441
        },
        "id": "ciIWuqrRv-gY",
        "outputId": "acd412a0-09ce-4a8c-8a1b-5c66a3b977a9"
      },
      "source": [
        "# Create a scatter plot of the Subjectivity and Polarity\n",
        "plt.figure(figsize=(8,6))\n",
        "for i in range(0, df.shape[0]):\n",
        "  plt.scatter(df['Polarity'][i], df['Subjectivity'][i], color='Blue')\n",
        "plt.title('Sentiment Analysis Scatter Plot')\n",
        "plt.xlabel('Polarity')\n",
        "plt.ylabel('Subjectivity (Objective -> Subjective)')\n",
        "plt.show()"
      ],
      "execution_count": null,
      "outputs": [
        {
          "output_type": "display_data",
          "data": {
            "image/png": "[encoded data removed]",
            "text/plain": [
              "<Figure size 576x432 with 1 Axes>"
            ]
          },
          "metadata": {}
        }
      ]
    },
    {
      "cell_type": "markdown",
      "metadata": {
        "id": "QynvHKcwxqAg"
      },
      "source": [
        "The Scatter plot indicates that the sentiment from twitter users about Facebook are mostly neutral with some positively subjective sentiments.\n",
        "The Scatter Plot also indicated that few of the sentiment from twitter users are negatively subjective."
      ]
    },
    {
      "cell_type": "code",
      "metadata": {
        "colab": {
          "base_uri": "https://localhost:8080/",
          "height": 374
        },
        "id": "MhLayg39zFTe",
        "outputId": "1d2de069-3e05-46b4-858a-6831a809233b"
      },
      "source": [
        "# Create a Bar Chart to show the count of Positive, Neutral, and Negative Sentiments\n",
        "df['Sentiment'].value_counts().plot(kind='bar')\n",
        "plt.title('A Bar Plot of the Sentiment Analysis of Facebook')\n",
        "plt.xlabel('Sentiment')\n",
        "plt.ylabel('Frequency of Tweets')\n",
        "plt.show()"
      ],
      "execution_count": null,
      "outputs": [
        {
          "output_type": "display_data",
          "data": {
            "image/png": "[encoded data removed]",
            "text/plain": [
              "<Figure size 432x288 with 1 Axes>"
            ]
          },
          "metadata": {}
        }
      ]
    },
    {
      "cell_type": "markdown",
      "metadata": {
        "id": "xi88E2590Jwr"
      },
      "source": [
        "The bar plot indicates that a large number of the tweets are neutral as regards Facebook inspite of recent happenings, while a good percentage of the tweets as regards Facebook are positive which will also indicate a support for Facebook.\n",
        "The plot also shows that a very little percentage of the tweets towards Facebook are neutral. This is however, unlikely to affect the social media giant 'Facebook' which has now been rebranded to 'Meta' in any way significantly."
      ]
    }
  ]
}